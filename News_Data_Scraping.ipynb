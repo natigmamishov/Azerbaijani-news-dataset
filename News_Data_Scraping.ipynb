{
 "cells": [
  {
   "cell_type": "markdown",
   "id": "bbf5220f",
   "metadata": {},
   "source": [
    "##### Import libraries "
   ]
  },
  {
   "cell_type": "code",
   "execution_count": 1,
   "id": "c499cd02",
   "metadata": {},
   "outputs": [],
   "source": [
    "import requests\n",
    "from bs4 import BeautifulSoup\n",
    "import pandas as pd\n",
    "import time"
   ]
  },
  {
   "cell_type": "code",
   "execution_count": 2,
   "id": "4ba7a428",
   "metadata": {},
   "outputs": [],
   "source": [
    "base_url='https://axar.az/'"
   ]
  },
  {
   "cell_type": "code",
   "execution_count": 3,
   "id": "89c5d330",
   "metadata": {},
   "outputs": [],
   "source": [
    "def get_soup(url):\n",
    "    \n",
    "    while True:\n",
    "        \n",
    "        try:\n",
    "            request=requests.get(url)\n",
    "            \n",
    "            content=request.content\n",
    "            \n",
    "            soup=BeautifulSoup(content, 'html.parser')\n",
    "            \n",
    "            return soup\n",
    "            \n",
    "        except:\n",
    "            \n",
    "            pass"
   ]
  },
  {
   "cell_type": "markdown",
   "id": "115a6304",
   "metadata": {},
   "source": [
    "##### Categories"
   ]
  },
  {
   "cell_type": "code",
   "execution_count": 4,
   "id": "2833fe9d",
   "metadata": {},
   "outputs": [],
   "source": [
    "def get_categories(url):\n",
    "    \n",
    "    soup=get_soup(url)\n",
    "    \n",
    "    div=soup.find('div', {\"class\":\"menu1\"})\n",
    "    \n",
    "    li_s=div.find_all('li')\n",
    "    \n",
    "    categories={row.text: base_url+row.find('a').get('href') for row in li_s}\n",
    "    \n",
    "    return categories"
   ]
  },
  {
   "cell_type": "code",
   "execution_count": 5,
   "id": "95d64801",
   "metadata": {},
   "outputs": [
    {
     "name": "stdout",
     "output_type": "stream",
     "text": [
      "{'Gündəm': 'https://axar.az//news/gundem/', 'Siyasət': 'https://axar.az//news/siyaset/', 'Planet': 'https://axar.az//news/planet/', 'Toplum': 'https://axar.az//news/toplum/', 'İqtisadiyyat': 'https://axar.az//news/iqtisadiyyat/', 'Kult': 'https://axar.az//news/kult/', 'Sağlıq': 'https://axar.az//news/saghliq/', 'Reportaj': 'https://axar.az//news/layiheler/', 'Yazarlar': 'https://axar.az//news/yazarlar/', 'Maqazin': 'https://axar.az//news/maqazin/', 'İdman': 'https://axar.az//news/idman/', 'Avto': 'https://axar.az//news/avto/', 'Foto': 'https://axar.az//news/foto/', 'Video': 'https://axar.az//news/video/'}\n"
     ]
    }
   ],
   "source": [
    "categories_name_and_urls=get_categories('https://axar.az/')\n",
    "\n",
    "print(categories_name_and_urls)"
   ]
  },
  {
   "cell_type": "code",
   "execution_count": 6,
   "id": "075645ea",
   "metadata": {},
   "outputs": [],
   "source": [
    "def get_alt_categories(url):\n",
    "    \n",
    "    soup=get_soup(url)\n",
    "    \n",
    "    alt_cat=soup.find('ul', {'class':'menu1 no_background'})\n",
    "    \n",
    "    if not alt_cat:\n",
    "        return None\n",
    "    \n",
    "    alt_cats={row.text: base_url+row.get('href') for row in alt_cat.find_all('a') if row.text!=\"Ana səhifə\"}\n",
    "    \n",
    "    return alt_cats"
   ]
  },
  {
   "cell_type": "code",
   "execution_count": 7,
   "id": "c6449b47",
   "metadata": {},
   "outputs": [],
   "source": [
    "for category_name in list(categories_name_and_urls.keys()):\n",
    "    \n",
    "    category_url=categories_name_and_urls[category_name]\n",
    "    \n",
    "    alt_cat=get_alt_categories(category_url)\n",
    "    \n",
    "    if not alt_cat:\n",
    "        pass\n",
    "    \n",
    "    else:\n",
    "        categories_name_and_urls.update(alt_cat)"
   ]
  },
  {
   "cell_type": "code",
   "execution_count": 8,
   "id": "edb806ee",
   "metadata": {},
   "outputs": [
    {
     "name": "stdout",
     "output_type": "stream",
     "text": [
      "{'Gündəm': 'https://axar.az//news/gundem/', 'Siyasət': 'https://axar.az//news/siyaset/', 'Planet': 'https://axar.az//news/planet/', 'Toplum': 'https://axar.az//news/toplum/', 'İqtisadiyyat': 'https://axar.az//news/iqtisadiyyat/', 'Kult': 'https://axar.az//news/kult/', 'Sağlıq': 'https://axar.az//news/saghliq/', 'Reportaj': 'https://axar.az//news/layiheler/', 'Yazarlar': 'https://axar.az//news/yazarlar/', 'Maqazin': 'https://axar.az//news/maqazin/', 'İdman': 'https://axar.az//news/idman/', 'Avto': 'https://axar.az//news/avto/', 'Foto': 'https://axar.az//news/foto/', 'Video': 'https://axar.az//news/video/', 'Ədəbiyyat': 'https://axar.az//news/edebiyyat/', 'Musiqi': 'https://axar.az//news/musiqi/', 'Sinema': 'https://axar.az//news/sinema/', 'Rəsm': 'https://axar.az//news/resm/', 'Teatr': 'https://axar.az//news/teatr/', 'Müsahibə': 'https://axar.az//news/musahibe/', 'Hadisə': 'https://axar.az//news/hadise/', 'Anım': 'https://axar.az//news/anim/'}\n"
     ]
    }
   ],
   "source": [
    "print(categories_name_and_urls)"
   ]
  },
  {
   "cell_type": "code",
   "execution_count": 9,
   "id": "492db8b4",
   "metadata": {},
   "outputs": [
    {
     "name": "stdout",
     "output_type": "stream",
     "text": [
      "{'Siyasət': 'https://axar.az//news/siyaset/', 'Planet': 'https://axar.az//news/planet/', 'Toplum': 'https://axar.az//news/toplum/', 'İqtisadiyyat': 'https://axar.az//news/iqtisadiyyat/', 'Kult': 'https://axar.az//news/kult/', 'Sağlıq': 'https://axar.az//news/saghliq/', 'Reportaj': 'https://axar.az//news/layiheler/', 'Yazarlar': 'https://axar.az//news/yazarlar/', 'Maqazin': 'https://axar.az//news/maqazin/', 'İdman': 'https://axar.az//news/idman/', 'Avto': 'https://axar.az//news/avto/', 'Ədəbiyyat': 'https://axar.az//news/edebiyyat/', 'Musiqi': 'https://axar.az//news/musiqi/', 'Sinema': 'https://axar.az//news/sinema/', 'Rəsm': 'https://axar.az//news/resm/', 'Teatr': 'https://axar.az//news/teatr/', 'Müsahibə': 'https://axar.az//news/musahibe/', 'Hadisə': 'https://axar.az//news/hadise/', 'Anım': 'https://axar.az//news/anim/'}\n"
     ]
    }
   ],
   "source": [
    "categories_name_and_urls.pop('Gündəm')\n",
    "\n",
    "categories_name_and_urls.pop('Foto')\n",
    "\n",
    "categories_name_and_urls.pop('Video')\n",
    "\n",
    "print(categories_name_and_urls)"
   ]
  },
  {
   "cell_type": "markdown",
   "id": "fb9e25b3",
   "metadata": {},
   "source": [
    "##### Pages"
   ]
  },
  {
   "cell_type": "code",
   "execution_count": 10,
   "id": "8c6910f7",
   "metadata": {},
   "outputs": [],
   "source": [
    "def get_pages(url):\n",
    "    \n",
    "    urls=[]\n",
    "    \n",
    "    number=2\n",
    "    \n",
    "    while True:\n",
    "        \n",
    "        new_url=url+f'page{number}/'\n",
    "        \n",
    "        soup=get_soup(new_url)\n",
    "    \n",
    "        div=soup.find('div', {'class': 'newsPlace'})\n",
    "        \n",
    "        div_body=div.text.strip('\\n')\n",
    "        \n",
    "        if div_body=='':\n",
    "            \n",
    "            break\n",
    "            \n",
    "        urls.append(new_url)\n",
    "        \n",
    "        number+=1\n",
    "        \n",
    "    urls.insert(0, url)\n",
    "        \n",
    "    return urls"
   ]
  },
  {
   "cell_type": "markdown",
   "id": "01901825",
   "metadata": {},
   "source": [
    "##### News urls"
   ]
  },
  {
   "cell_type": "code",
   "execution_count": 11,
   "id": "2a6baa18",
   "metadata": {},
   "outputs": [],
   "source": [
    "def get_news_urls(url):\n",
    "    \n",
    "    urls=[]\n",
    "    \n",
    "    pages=get_pages(url)\n",
    "    \n",
    "    for url in pages:\n",
    "           \n",
    "        soup=get_soup(url)\n",
    "\n",
    "        div=soup.find('div', {\"class\": 'newsPlace'})\n",
    "\n",
    "        tables=div.find_all('table', {'id': 'catNews'})\n",
    "\n",
    "        for row in tables:\n",
    "\n",
    "            url=row.find('div', {\"id\": \"cat_news_title\"}).find('a').get('href')\n",
    "\n",
    "            urls.append(url)\n",
    "    \n",
    "    return urls"
   ]
  },
  {
   "cell_type": "markdown",
   "id": "65b30aff",
   "metadata": {},
   "source": [
    "##### News data"
   ]
  },
  {
   "cell_type": "code",
   "execution_count": 12,
   "id": "b9995f5b",
   "metadata": {},
   "outputs": [],
   "source": [
    "def get_news_data(url):\n",
    "    \n",
    "    summary_text, article_text=None, None\n",
    "    \n",
    "    soup=get_soup(url)\n",
    "    \n",
    "    summary=soup.find('strong')\n",
    "    \n",
    "    if summary:\n",
    "        \n",
    "        summary_text=summary.text\n",
    "    \n",
    "    article=soup.find('span', {'id': 'font_size', 'class': 'article_body'})\n",
    "    \n",
    "    if article:\n",
    "        \n",
    "        article_text=article.text.strip('\\n').strip(summary_text)\n",
    "    \n",
    "    return summary_text, article_text"
   ]
  },
  {
   "cell_type": "markdown",
   "id": "3a615bbf",
   "metadata": {},
   "source": [
    "##### Main"
   ]
  },
  {
   "cell_type": "code",
   "execution_count": 13,
   "id": "f62c6a3f",
   "metadata": {},
   "outputs": [],
   "source": [
    "result={'category': [], 'summary':[], 'article':[]}\n",
    "\n",
    "errors=[]"
   ]
  },
  {
   "cell_type": "code",
   "execution_count": 14,
   "id": "e5babfee",
   "metadata": {},
   "outputs": [
    {
     "name": "stdout",
     "output_type": "stream",
     "text": [
      "Siyasət category started\n",
      "Siyasət category ended\n",
      "Planet category started\n",
      "Planet category ended\n",
      "Toplum category started\n",
      "Toplum category ended\n",
      "İqtisadiyyat category started\n",
      "İqtisadiyyat category ended\n",
      "Kult category started\n",
      "Kult category ended\n",
      "Sağlıq category started\n",
      "Sağlıq category ended\n",
      "Reportaj category started\n",
      "Reportaj category ended\n",
      "Yazarlar category started\n",
      "Yazarlar category ended\n",
      "Maqazin category started\n",
      "Maqazin category ended\n",
      "İdman category started\n",
      "İdman category ended\n",
      "Avto category started\n",
      "Avto category ended\n",
      "Ədəbiyyat category started\n",
      "Ədəbiyyat category ended\n",
      "Musiqi category started\n",
      "Musiqi category ended\n",
      "Sinema category started\n",
      "Sinema category ended\n",
      "Rəsm category started\n",
      "Rəsm category ended\n",
      "Teatr category started\n",
      "Teatr category ended\n",
      "Müsahibə category started\n",
      "Müsahibə category ended\n",
      "Hadisə category started\n",
      "Hadisə category ended\n",
      "Anım category started\n",
      "Anım category ended\n"
     ]
    }
   ],
   "source": [
    "for category_name, category_url in categories_name_and_urls.items():\n",
    "    \n",
    "    print(f'{category_name} category started')\n",
    "    \n",
    "    news_urls=get_news_urls(category_url)\n",
    "    \n",
    "    for url in news_urls:\n",
    "        \n",
    "        try:\n",
    "        \n",
    "            summary_text, article_text=get_news_data(url)\n",
    "\n",
    "            result['category'].append(category_name)\n",
    "            \n",
    "            result['summary'].append(summary_text)\n",
    "            \n",
    "            result['article'].append(article_text)\n",
    "            \n",
    "        except:\n",
    "            \n",
    "            errors.append(url)\n",
    "            \n",
    "    print(f'{category_name} category ended')"
   ]
  },
  {
   "cell_type": "code",
   "execution_count": 15,
   "id": "5aed14de",
   "metadata": {},
   "outputs": [],
   "source": [
    "df=pd.DataFrame(result)"
   ]
  },
  {
   "cell_type": "code",
   "execution_count": 16,
   "id": "77965244",
   "metadata": {},
   "outputs": [
    {
     "data": {
      "text/html": [
       "<div>\n",
       "<style scoped>\n",
       "    .dataframe tbody tr th:only-of-type {\n",
       "        vertical-align: middle;\n",
       "    }\n",
       "\n",
       "    .dataframe tbody tr th {\n",
       "        vertical-align: top;\n",
       "    }\n",
       "\n",
       "    .dataframe thead th {\n",
       "        text-align: right;\n",
       "    }\n",
       "</style>\n",
       "<table border=\"1\" class=\"dataframe\">\n",
       "  <thead>\n",
       "    <tr style=\"text-align: right;\">\n",
       "      <th></th>\n",
       "      <th>category</th>\n",
       "      <th>summary</th>\n",
       "      <th>article</th>\n",
       "    </tr>\n",
       "  </thead>\n",
       "  <tbody>\n",
       "    <tr>\n",
       "      <th>0</th>\n",
       "      <td>Siyasət</td>\n",
       "      <td>Azərbaycan Respublikasının Prezidenti İlham Əl...</td>\n",
       "      <td>\\nAxar.az xəbər verir ki, bu barədə Prezidentin M</td>\n",
       "    </tr>\n",
       "    <tr>\n",
       "      <th>1</th>\n",
       "      <td>Siyasət</td>\n",
       "      <td>Azərbaycan Respublikasının Prezidenti İlham Əl...</td>\n",
       "      <td>17:50\\nAzərbaycan Respublikasının Prezidenti İ...</td>\n",
       "    </tr>\n",
       "    <tr>\n",
       "      <th>2</th>\n",
       "      <td>Siyasət</td>\n",
       "      <td>Xəbər verdiyimiz kimi, Azərbaycan Prezidenti İ...</td>\n",
       "      <td>14:22\\nXəbər verdiyimiz kimi, Azərbaycan Prezi...</td>\n",
       "    </tr>\n",
       "    <tr>\n",
       "      <th>3</th>\n",
       "      <td>Siyasət</td>\n",
       "      <td>Son üç il ərzində keçirilmiş hərbi əməliyyatla...</td>\n",
       "      <td>\\nAxar.az xəbər verir ki, bu barədə Azərbaycan...</td>\n",
       "    </tr>\n",
       "    <tr>\n",
       "      <th>4</th>\n",
       "      <td>Siyasət</td>\n",
       "      <td>Qırx dörd günlük müharibə zamanı çoxlu xarici ...</td>\n",
       "      <td>\\nAxar.az xəbər verir ki, bu barədə Azərbaycan...</td>\n",
       "    </tr>\n",
       "  </tbody>\n",
       "</table>\n",
       "</div>"
      ],
      "text/plain": [
       "  category                                            summary  \\\n",
       "0  Siyasət  Azərbaycan Respublikasının Prezidenti İlham Əl...   \n",
       "1  Siyasət  Azərbaycan Respublikasının Prezidenti İlham Əl...   \n",
       "2  Siyasət  Xəbər verdiyimiz kimi, Azərbaycan Prezidenti İ...   \n",
       "3  Siyasət  Son üç il ərzində keçirilmiş hərbi əməliyyatla...   \n",
       "4  Siyasət  Qırx dörd günlük müharibə zamanı çoxlu xarici ...   \n",
       "\n",
       "                                             article  \n",
       "0  \\nAxar.az xəbər verir ki, bu barədə Prezidentin M  \n",
       "1  17:50\\nAzərbaycan Respublikasının Prezidenti İ...  \n",
       "2  14:22\\nXəbər verdiyimiz kimi, Azərbaycan Prezi...  \n",
       "3  \\nAxar.az xəbər verir ki, bu barədə Azərbaycan...  \n",
       "4  \\nAxar.az xəbər verir ki, bu barədə Azərbaycan...  "
      ]
     },
     "execution_count": 16,
     "metadata": {},
     "output_type": "execute_result"
    }
   ],
   "source": [
    "df.head()"
   ]
  },
  {
   "cell_type": "code",
   "execution_count": 17,
   "id": "cf418f02",
   "metadata": {},
   "outputs": [
    {
     "data": {
      "text/plain": [
       "(385527, 3)"
      ]
     },
     "execution_count": 17,
     "metadata": {},
     "output_type": "execute_result"
    }
   ],
   "source": [
    "df.shape"
   ]
  },
  {
   "cell_type": "code",
   "execution_count": 18,
   "id": "df5952f7",
   "metadata": {},
   "outputs": [],
   "source": [
    "df.to_csv('azerbaijani_news_dataset.csv', index=False)"
   ]
  }
 ],
 "metadata": {
  "kernelspec": {
   "display_name": "Python 3 (ipykernel)",
   "language": "python",
   "name": "python3"
  },
  "language_info": {
   "codemirror_mode": {
    "name": "ipython",
    "version": 3
   },
   "file_extension": ".py",
   "mimetype": "text/x-python",
   "name": "python",
   "nbconvert_exporter": "python",
   "pygments_lexer": "ipython3",
   "version": "3.11.5"
  }
 },
 "nbformat": 4,
 "nbformat_minor": 5
}
